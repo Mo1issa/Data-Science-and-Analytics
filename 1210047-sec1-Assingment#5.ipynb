{
 "cells": [
  {
   "cell_type": "markdown",
   "metadata": {},
   "source": [
    "#**Assignment #5**\n",
    "\n",
    "*   **Mohammad Issa**\n",
    "*   **ID:1210047**"
   ]
  },
  {
   "cell_type": "markdown",
   "metadata": {},
   "source": [
    "# Online Retail II UCI DataSet\n",
    "This Online Retail II data set contains all the transactions occurring for a UK-based and registered, non-store online retail between 01/12/2009 and 09/12/2011.The company mainly sells unique all-occasion gift-ware. Many customers of the company are wholesalers."
   ]
  },
  {
   "cell_type": "markdown",
   "metadata": {},
   "source": [
    "**Attribute Information:**\n",
    "\n",
    "* InvoiceNo: Invoice number. Nominal. A 6-digit integral number uniquely assigned to each transaction. If this code starts with the letter 'c', it indicates a cancellation.\n",
    "* StockCode: Product (item) code. Nominal. A 5-digit integral number uniquely assigned to each distinct product.\n",
    "* Description: Product (item) name. Nominal.\n",
    "* Quantity: The quantities of each product (item) per transaction. Numeric.\n",
    "* InvoiceDate: Invice date and time. Numeric. The day and time when a transaction was generated.\n",
    "* UnitPrice: Unit price. Numeric. Product price per unit in sterling (Â£).\n",
    "* CustomerID: Customer number. Nominal. A 5-digit integral number uniquely assigned to each customer.\n",
    "* Country: Country name. Nominal. The name of the country where a customer resides.\n",
    "\n",
    "\n",
    "\n"
   ]
  },
  {
   "cell_type": "markdown",
   "metadata": {},
   "source": [
    "**import Libraries:**"
   ]
  },
  {
   "cell_type": "code",
   "execution_count": 57,
   "metadata": {},
   "outputs": [],
   "source": [
    "import pandas as pd\n",
    "import numpy as np\n",
    "import random\n",
    "from itertools import product\n"
   ]
  },
  {
   "cell_type": "markdown",
   "metadata": {},
   "source": [
    "**Load Dataset:**"
   ]
  },
  {
   "cell_type": "code",
   "execution_count": 58,
   "metadata": {},
   "outputs": [],
   "source": [
    "\n",
    "data = pd.read_csv(\"C:/Users/HP/Downloads/online_retail_II.csv/online_retail_II.csv\")#reading the data\n",
    "seed = hash('1210047')  # Convert your ID to Integer hash\n",
    "\n"
   ]
  },
  {
   "cell_type": "markdown",
   "metadata": {},
   "source": [
    "Randomly select 200k row from the dataset using my ID as seed."
   ]
  },
  {
   "cell_type": "code",
   "execution_count": 59,
   "metadata": {},
   "outputs": [
    {
     "data": {
      "text/html": [
       "<div>\n",
       "<style scoped>\n",
       "    .dataframe tbody tr th:only-of-type {\n",
       "        vertical-align: middle;\n",
       "    }\n",
       "\n",
       "    .dataframe tbody tr th {\n",
       "        vertical-align: top;\n",
       "    }\n",
       "\n",
       "    .dataframe thead th {\n",
       "        text-align: right;\n",
       "    }\n",
       "</style>\n",
       "<table border=\"1\" class=\"dataframe\">\n",
       "  <thead>\n",
       "    <tr style=\"text-align: right;\">\n",
       "      <th></th>\n",
       "      <th>Invoice</th>\n",
       "      <th>StockCode</th>\n",
       "      <th>Description</th>\n",
       "      <th>Quantity</th>\n",
       "      <th>InvoiceDate</th>\n",
       "      <th>Price</th>\n",
       "      <th>Customer ID</th>\n",
       "      <th>Country</th>\n",
       "    </tr>\n",
       "  </thead>\n",
       "  <tbody>\n",
       "    <tr>\n",
       "      <th>426900</th>\n",
       "      <td>530140</td>\n",
       "      <td>47566</td>\n",
       "      <td>PARTY BUNTING</td>\n",
       "      <td>2</td>\n",
       "      <td>2010-11-01 16:45:00</td>\n",
       "      <td>8.47</td>\n",
       "      <td>NaN</td>\n",
       "      <td>United Kingdom</td>\n",
       "    </tr>\n",
       "    <tr>\n",
       "      <th>562245</th>\n",
       "      <td>539452</td>\n",
       "      <td>20966</td>\n",
       "      <td>SANDWICH BATH SPONGE</td>\n",
       "      <td>40</td>\n",
       "      <td>2010-12-17 17:06:00</td>\n",
       "      <td>1.25</td>\n",
       "      <td>15856.0</td>\n",
       "      <td>United Kingdom</td>\n",
       "    </tr>\n",
       "    <tr>\n",
       "      <th>108781</th>\n",
       "      <td>499858</td>\n",
       "      <td>20727</td>\n",
       "      <td>LUNCH BAG  BLACK SKULL.</td>\n",
       "      <td>1</td>\n",
       "      <td>2010-03-02 17:04:00</td>\n",
       "      <td>4.21</td>\n",
       "      <td>NaN</td>\n",
       "      <td>United Kingdom</td>\n",
       "    </tr>\n",
       "    <tr>\n",
       "      <th>119725</th>\n",
       "      <td>500843</td>\n",
       "      <td>21703</td>\n",
       "      <td>BAG 125g SWIRLY MARBLES</td>\n",
       "      <td>3</td>\n",
       "      <td>2010-03-10 12:13:00</td>\n",
       "      <td>0.42</td>\n",
       "      <td>17348.0</td>\n",
       "      <td>United Kingdom</td>\n",
       "    </tr>\n",
       "    <tr>\n",
       "      <th>298174</th>\n",
       "      <td>518411</td>\n",
       "      <td>22175</td>\n",
       "      <td>PINK OWL SOFT TOY</td>\n",
       "      <td>1</td>\n",
       "      <td>2010-08-08 14:51:00</td>\n",
       "      <td>2.95</td>\n",
       "      <td>14575.0</td>\n",
       "      <td>United Kingdom</td>\n",
       "    </tr>\n",
       "    <tr>\n",
       "      <th>...</th>\n",
       "      <td>...</td>\n",
       "      <td>...</td>\n",
       "      <td>...</td>\n",
       "      <td>...</td>\n",
       "      <td>...</td>\n",
       "      <td>...</td>\n",
       "      <td>...</td>\n",
       "      <td>...</td>\n",
       "    </tr>\n",
       "    <tr>\n",
       "      <th>391230</th>\n",
       "      <td>527041</td>\n",
       "      <td>85176</td>\n",
       "      <td>SEWING SUSAN 21 NEEDLE SET</td>\n",
       "      <td>288</td>\n",
       "      <td>2010-10-14 12:27:00</td>\n",
       "      <td>0.64</td>\n",
       "      <td>12798.0</td>\n",
       "      <td>Japan</td>\n",
       "    </tr>\n",
       "    <tr>\n",
       "      <th>529205</th>\n",
       "      <td>536672</td>\n",
       "      <td>22812</td>\n",
       "      <td>PACK 3 BOXES CHRISTMAS PANNETONE</td>\n",
       "      <td>24</td>\n",
       "      <td>2010-12-02 12:10:00</td>\n",
       "      <td>1.95</td>\n",
       "      <td>14491.0</td>\n",
       "      <td>United Kingdom</td>\n",
       "    </tr>\n",
       "    <tr>\n",
       "      <th>25558</th>\n",
       "      <td>491613</td>\n",
       "      <td>21897</td>\n",
       "      <td>POTTING SHED CANDLE CITRONELLA</td>\n",
       "      <td>1</td>\n",
       "      <td>2009-12-11 13:52:00</td>\n",
       "      <td>2.95</td>\n",
       "      <td>16952.0</td>\n",
       "      <td>United Kingdom</td>\n",
       "    </tr>\n",
       "    <tr>\n",
       "      <th>852747</th>\n",
       "      <td>565648</td>\n",
       "      <td>22583</td>\n",
       "      <td>PACK OF 6 HANDBAG GIFT BOXES</td>\n",
       "      <td>2</td>\n",
       "      <td>2011-09-05 16:22:00</td>\n",
       "      <td>2.55</td>\n",
       "      <td>18196.0</td>\n",
       "      <td>United Kingdom</td>\n",
       "    </tr>\n",
       "    <tr>\n",
       "      <th>473217</th>\n",
       "      <td>533973</td>\n",
       "      <td>21874</td>\n",
       "      <td>GIN AND TONIC MUG</td>\n",
       "      <td>3</td>\n",
       "      <td>2010-11-19 13:21:00</td>\n",
       "      <td>1.25</td>\n",
       "      <td>15421.0</td>\n",
       "      <td>United Kingdom</td>\n",
       "    </tr>\n",
       "  </tbody>\n",
       "</table>\n",
       "<p>200000 rows × 8 columns</p>\n",
       "</div>"
      ],
      "text/plain": [
       "       Invoice StockCode                       Description  Quantity  \\\n",
       "426900  530140     47566                     PARTY BUNTING         2   \n",
       "562245  539452     20966              SANDWICH BATH SPONGE        40   \n",
       "108781  499858     20727           LUNCH BAG  BLACK SKULL.         1   \n",
       "119725  500843     21703           BAG 125g SWIRLY MARBLES         3   \n",
       "298174  518411     22175                 PINK OWL SOFT TOY         1   \n",
       "...        ...       ...                               ...       ...   \n",
       "391230  527041     85176        SEWING SUSAN 21 NEEDLE SET       288   \n",
       "529205  536672     22812  PACK 3 BOXES CHRISTMAS PANNETONE        24   \n",
       "25558   491613     21897    POTTING SHED CANDLE CITRONELLA         1   \n",
       "852747  565648     22583      PACK OF 6 HANDBAG GIFT BOXES         2   \n",
       "473217  533973     21874                 GIN AND TONIC MUG         3   \n",
       "\n",
       "                InvoiceDate  Price  Customer ID         Country  \n",
       "426900  2010-11-01 16:45:00   8.47          NaN  United Kingdom  \n",
       "562245  2010-12-17 17:06:00   1.25      15856.0  United Kingdom  \n",
       "108781  2010-03-02 17:04:00   4.21          NaN  United Kingdom  \n",
       "119725  2010-03-10 12:13:00   0.42      17348.0  United Kingdom  \n",
       "298174  2010-08-08 14:51:00   2.95      14575.0  United Kingdom  \n",
       "...                     ...    ...          ...             ...  \n",
       "391230  2010-10-14 12:27:00   0.64      12798.0           Japan  \n",
       "529205  2010-12-02 12:10:00   1.95      14491.0  United Kingdom  \n",
       "25558   2009-12-11 13:52:00   2.95      16952.0  United Kingdom  \n",
       "852747  2011-09-05 16:22:00   2.55      18196.0  United Kingdom  \n",
       "473217  2010-11-19 13:21:00   1.25      15421.0  United Kingdom  \n",
       "\n",
       "[200000 rows x 8 columns]"
      ]
     },
     "execution_count": 59,
     "metadata": {},
     "output_type": "execute_result"
    }
   ],
   "source": [
    "# Randomly select 200,000 rows from the data (using seed of my ID)\n",
    "data = data.sample(200000, random_state=np.random.default_rng(seed))\n",
    "data"
   ]
  },
  {
   "cell_type": "markdown",
   "metadata": {},
   "source": [
    "\n",
    "\n",
    "   **Using a good and efficent ways, answer the following questions:**\n",
    "\n"
   ]
  },
  {
   "cell_type": "markdown",
   "metadata": {},
   "source": [
    "\n",
    "\n",
    "1.   ***Determine the total sales per invoice and identify the top 5 invoices.***\n",
    "\n"
   ]
  },
  {
   "cell_type": "code",
   "execution_count": 60,
   "metadata": {},
   "outputs": [
    {
     "name": "stdout",
     "output_type": "stream",
     "text": [
      "Total Sales per Invoice:\n",
      "  Invoice  Price  Quantity\n",
      "0  489435   2.55        12\n",
      "1  489436  11.70        42\n",
      "2  489437  22.20        63\n",
      "3  489438  11.85       206\n",
      "4  489439   1.50        24\n",
      "\n",
      "Top 5 Invoices:\n"
     ]
    },
    {
     "data": {
      "text/html": [
       "<div>\n",
       "<style scoped>\n",
       "    .dataframe tbody tr th:only-of-type {\n",
       "        vertical-align: middle;\n",
       "    }\n",
       "\n",
       "    .dataframe tbody tr th {\n",
       "        vertical-align: top;\n",
       "    }\n",
       "\n",
       "    .dataframe thead th {\n",
       "        text-align: right;\n",
       "    }\n",
       "</style>\n",
       "<table border=\"1\" class=\"dataframe\">\n",
       "  <thead>\n",
       "    <tr style=\"text-align: right;\">\n",
       "      <th></th>\n",
       "      <th>Invoice</th>\n",
       "      <th>Price</th>\n",
       "      <th>Quantity</th>\n",
       "    </tr>\n",
       "  </thead>\n",
       "  <tbody>\n",
       "    <tr>\n",
       "      <th>8159</th>\n",
       "      <td>512771</td>\n",
       "      <td>25111.09</td>\n",
       "      <td>1</td>\n",
       "    </tr>\n",
       "    <tr>\n",
       "      <th>35045</th>\n",
       "      <td>C537630</td>\n",
       "      <td>13541.33</td>\n",
       "      <td>-1</td>\n",
       "    </tr>\n",
       "    <tr>\n",
       "      <th>36201</th>\n",
       "      <td>C580604</td>\n",
       "      <td>11586.50</td>\n",
       "      <td>-1</td>\n",
       "    </tr>\n",
       "    <tr>\n",
       "      <th>12830</th>\n",
       "      <td>525399</td>\n",
       "      <td>10468.80</td>\n",
       "      <td>1</td>\n",
       "    </tr>\n",
       "    <tr>\n",
       "      <th>33869</th>\n",
       "      <td>C496116</td>\n",
       "      <td>8985.60</td>\n",
       "      <td>-1</td>\n",
       "    </tr>\n",
       "  </tbody>\n",
       "</table>\n",
       "</div>"
      ],
      "text/plain": [
       "       Invoice     Price  Quantity\n",
       "8159    512771  25111.09         1\n",
       "35045  C537630  13541.33        -1\n",
       "36201  C580604  11586.50        -1\n",
       "12830   525399  10468.80         1\n",
       "33869  C496116   8985.60        -1"
      ]
     },
     "execution_count": 60,
     "metadata": {},
     "output_type": "execute_result"
    }
   ],
   "source": [
    "invoice_total = data.groupby('Invoice')[['Price', 'Quantity']].sum()\n",
    "invoice_total = invoice_total.reset_index()\n",
    "\n",
    "# Sort invoice_total by total sales (descending) and select top 5 \n",
    "top_invoices = invoice_total.sort_values(by='Price', ascending=False)[:5]\n",
    "\n",
    "# Display results\n",
    "print(\"Total Sales per Invoice:\")\n",
    "print(invoice_total.head())\n",
    "print(\"\\nTop 5 Invoices:\")\n",
    "top_invoices\n",
    "\n",
    "\n"
   ]
  },
  {
   "cell_type": "markdown",
   "metadata": {},
   "source": [
    "\n",
    "2.   ***Compute the total sales per customer and list the top 5 customers.***\n",
    "\n"
   ]
  },
  {
   "cell_type": "code",
   "execution_count": 61,
   "metadata": {},
   "outputs": [
    {
     "name": "stdout",
     "output_type": "stream",
     "text": [
      "Total Sales per Customer:\n",
      "   Customer ID   Price  Quantity\n",
      "0      12346.0   69.20        13\n",
      "1      12347.0  123.90       850\n",
      "2      12348.0   49.59       757\n",
      "3      12349.0  726.51       248\n",
      "4      12350.0    6.50        30\n",
      "\n",
      "Top 5 Customers:\n"
     ]
    },
    {
     "data": {
      "text/html": [
       "<div>\n",
       "<style scoped>\n",
       "    .dataframe tbody tr th:only-of-type {\n",
       "        vertical-align: middle;\n",
       "    }\n",
       "\n",
       "    .dataframe tbody tr th {\n",
       "        vertical-align: top;\n",
       "    }\n",
       "\n",
       "    .dataframe thead th {\n",
       "        text-align: right;\n",
       "    }\n",
       "</style>\n",
       "<table border=\"1\" class=\"dataframe\">\n",
       "  <thead>\n",
       "    <tr style=\"text-align: right;\">\n",
       "      <th></th>\n",
       "      <th>Customer ID</th>\n",
       "      <th>Price</th>\n",
       "      <th>Quantity</th>\n",
       "    </tr>\n",
       "  </thead>\n",
       "  <tbody>\n",
       "    <tr>\n",
       "      <th>2411</th>\n",
       "      <td>14911.0</td>\n",
       "      <td>15969.52</td>\n",
       "      <td>26685</td>\n",
       "    </tr>\n",
       "    <tr>\n",
       "      <th>5267</th>\n",
       "      <td>17949.0</td>\n",
       "      <td>9284.51</td>\n",
       "      <td>5764</td>\n",
       "    </tr>\n",
       "    <tr>\n",
       "      <th>1649</th>\n",
       "      <td>14096.0</td>\n",
       "      <td>6724.88</td>\n",
       "      <td>3122</td>\n",
       "    </tr>\n",
       "    <tr>\n",
       "      <th>1704</th>\n",
       "      <td>14156.0</td>\n",
       "      <td>6355.91</td>\n",
       "      <td>32924</td>\n",
       "    </tr>\n",
       "    <tr>\n",
       "      <th>5168</th>\n",
       "      <td>17841.0</td>\n",
       "      <td>6340.60</td>\n",
       "      <td>7149</td>\n",
       "    </tr>\n",
       "  </tbody>\n",
       "</table>\n",
       "</div>"
      ],
      "text/plain": [
       "      Customer ID     Price  Quantity\n",
       "2411      14911.0  15969.52     26685\n",
       "5267      17949.0   9284.51      5764\n",
       "1649      14096.0   6724.88      3122\n",
       "1704      14156.0   6355.91     32924\n",
       "5168      17841.0   6340.60      7149"
      ]
     },
     "execution_count": 61,
     "metadata": {},
     "output_type": "execute_result"
    }
   ],
   "source": [
    "def get_top_customers(data):\n",
    "\n",
    "  customer_totals = data.groupby('Customer ID')[['Price', 'Quantity']].sum().reset_index()\n",
    "  top_customers = customer_totals.sort_values(by='Price', ascending=False)[:5]\n",
    "  return customer_totals, top_customers\n",
    "\n",
    "# Example usage\n",
    "customer_totals, top_customers = get_top_customers(data)\n",
    "\n",
    "print(\"Total Sales per Customer:\")\n",
    "print(customer_totals.head())\n",
    "print(\"\\nTop 5 Customers:\")\n",
    "top_customers\n"
   ]
  },
  {
   "cell_type": "markdown",
   "metadata": {},
   "source": [
    "\n",
    "\n",
    "3.   ***Identify the top 5 selling items during this period.***\n",
    "\n",
    "\n"
   ]
  },
  {
   "cell_type": "code",
   "execution_count": 62,
   "metadata": {},
   "outputs": [
    {
     "name": "stdout",
     "output_type": "stream",
     "text": [
      "Top 5 Selling Items (by Quantity):\n",
      "StockCode\n",
      "17003     21568\n",
      "85099B    18224\n",
      "21212     18162\n",
      "84077     18115\n",
      "85123A    17232\n",
      "Name: Quantity, dtype: int64\n"
     ]
    }
   ],
   "source": [
    "\n",
    "# Assuming 'StockCode' represents the items\n",
    "top_selling_items = (\n",
    "    data.groupby('StockCode')['Quantity'].sum().sort_values(ascending=False).head(5)\n",
    ")\n",
    "\n",
    "#showing the  results\n",
    "print(\"Top 5 Selling Items (by Quantity):\")\n",
    "print(top_selling_items)\n",
    "\n"
   ]
  },
  {
   "cell_type": "markdown",
   "metadata": {},
   "source": [
    "\n",
    "\n",
    "\n",
    "\n",
    "4.   ***Determine the most frequently purchased item pairs by customers and display the top 20 pairs.***\n",
    "\n"
   ]
  },
  {
   "cell_type": "code",
   "execution_count": 63,
   "metadata": {},
   "outputs": [
    {
     "name": "stdout",
     "output_type": "stream",
     "text": [
      "\n",
      "Top 20 Most Frequently Purchased Item Pairs:\n",
      "(GREEN REGENCY TEACUP AND SAUCER, PINK REGENCY TEACUP AND SAUCER)         35\n",
      "(WHITE HANGING HEART T-LIGHT HOLDER, RED HANGING HEART T-LIGHT HOLDER)    31\n",
      "(HEART OF WICKER LARGE, HEART OF WICKER SMALL)                            29\n",
      "(HAND WARMER SCOTTY DOG DESIGN, HAND WARMER OWL DESIGN)                   28\n",
      "(DOLLY GIRL LUNCH BOX, SPACEBOY LUNCH BOX )                               27\n",
      "(PINK REGENCY TEACUP AND SAUCER, GREEN REGENCY TEACUP AND SAUCER)         26\n",
      "(PINK REGENCY TEACUP AND SAUCER, ROSES REGENCY TEACUP AND SAUCER )        26\n",
      "(LUNCH BAG CARS BLUE, LUNCH BAG WOODLAND)                                 26\n",
      "(HEART OF WICKER SMALL, HEART OF WICKER LARGE)                            26\n",
      "(LUNCH BAG PINK POLKADOT, LUNCH BAG RED RETROSPOT)                        25\n",
      "(RED HANGING HEART T-LIGHT HOLDER, WHITE HANGING HEART T-LIGHT HOLDER)    24\n",
      "(LUNCH BAG SPACEBOY DESIGN , LUNCH BAG SUKI  DESIGN )                     24\n",
      "(ROSES REGENCY TEACUP AND SAUCER , GREEN REGENCY TEACUP AND SAUCER)       24\n",
      "(WHITE HANGING HEART T-LIGHT HOLDER, HOME BUILDING BLOCK WORD)            23\n",
      "(WHITE HANGING HEART T-LIGHT HOLDER, HEART OF WICKER LARGE)               23\n",
      "(VINTAGE SNAP CARDS, VINTAGE HEADS AND TAILS CARD GAME )                  22\n",
      "(ROSES REGENCY TEACUP AND SAUCER , PINK REGENCY TEACUP AND SAUCER)        22\n",
      "(LUNCH BAG CARS BLUE, LUNCH BAG  BLACK SKULL.)                            22\n",
      "(LUNCH BAG SPACEBOY DESIGN , LUNCH BAG  BLACK SKULL.)                     22\n",
      "(GREEN REGENCY TEACUP AND SAUCER, ROSES REGENCY TEACUP AND SAUCER )       22\n",
      "Name: count, dtype: int64\n"
     ]
    }
   ],
   "source": [
    "# Step 1: Create a dataframe with customer ID and items purchased\n",
    "customer_items = data.groupby('Invoice')['Description'].apply(list).reset_index()\n",
    "\n",
    "# Step 2: Function to find all pairs of items in a list\n",
    "def find_pairs(items):\n",
    "    pairs = []\n",
    "    for i in range(len(items)):\n",
    "        for j in range(i+1, len(items)):\n",
    "            pairs.append((items[i], items[j]))\n",
    "    return pairs\n",
    "\n",
    "# Step 3: Apply the function to find pairs for each customer and concatenate the lists\n",
    "customer_pairs = customer_items['Description'].apply(find_pairs)\n",
    "\n",
    "# Step 4: Flatten the list of pairs and count occurrences\n",
    "pair_counts = pd.Series([item for sublist in customer_pairs for item in sublist]).value_counts()\n",
    "\n",
    "# Step 5: Display the top 20 pairs\n",
    "print(\"\\nTop 20 Most Frequently Purchased Item Pairs:\")\n",
    "print(pair_counts.head(20))"
   ]
  },
  {
   "cell_type": "markdown",
   "metadata": {},
   "source": [
    "\n",
    "\n",
    "5.   ***The retail store aims to introduce a new promotion targeting items with low sales volume. This promotion entails offering a discounted price for a pair of two different items, with one item being among the top 10 best sellers and the other from the bottom 10 sellers. Customers who purchase these two items together will qualify for the special pricing. Your task is to recommend 10 pairs of items to kickstart this campaign.***\n",
    "\n",
    "\n"
   ]
  },
  {
   "cell_type": "markdown",
   "metadata": {},
   "source": [
    "**let me show you the answer  explaining each step:**"
   ]
  },
  {
   "cell_type": "markdown",
   "metadata": {},
   "source": [
    "1.   Calculate Total Quantity Sold per Stock Code:\n",
    "\n",
    " to calculate Quantity you need to Group the dataset by the Description column and sum up the \"Quantity\" for each item."
   ]
  },
  {
   "cell_type": "code",
   "execution_count": 64,
   "metadata": {},
   "outputs": [],
   "source": [
    "# Total quantity sold per stock \n",
    "item_quantities = data.groupby(\"Description\")[\"Quantity\"].sum().reset_index()"
   ]
  },
  {
   "cell_type": "markdown",
   "metadata": {},
   "source": [
    "2.   Sort the Item Quantities DataFrame by Quantity in Descending Order:\n",
    "\n",
    "Arranging the DataFrame obtained in the previous step in descending order acoording  to the total quantity sold."
   ]
  },
  {
   "cell_type": "code",
   "execution_count": 65,
   "metadata": {},
   "outputs": [],
   "source": [
    "# Sort the item_quantities DataFrame by quantity in descending order\n",
    "sorted_quantities = item_quantities.sort_values(by=\"Quantity\", ascending=False)"
   ]
  },
  {
   "cell_type": "markdown",
   "metadata": {},
   "source": [
    "3.   Identify Top 10 Best Sellers by Quantity (without Duplicates):\n",
    "\n",
    "Extract the top 10 rows from the sorted DataFrame, making sure that no duplicates are in the Description column."
   ]
  },
  {
   "cell_type": "code",
   "execution_count": 66,
   "metadata": {},
   "outputs": [],
   "source": [
    "# Top 10 best sellers by quantity (without duplicates-->drop_duplicates)\n",
    "top_10_sellers = sorted_quantities.drop_duplicates(subset=[\"Description\"]).head(10)\n"
   ]
  },
  {
   "cell_type": "markdown",
   "metadata": {},
   "source": [
    "4.   Reset Index to Avoid Potential KeyError:\n",
    "\n",
    "we have to reset the index of the DataFrame to make sure that it will start from 0 and proceeds in sequential, avoiding any potential KeyError."
   ]
  },
  {
   "cell_type": "code",
   "execution_count": 67,
   "metadata": {},
   "outputs": [],
   "source": [
    "# Resetting the index to avoid potential KeyError -->reset_index\n",
    "top_10_sellers.reset_index(drop=True, inplace=True)"
   ]
  },
  {
   "cell_type": "markdown",
   "metadata": {},
   "source": [
    "5.   Identify Bottom 10 Sellers by Quantity (without Duplicates and Cancelled Invoices):\n",
    "\n",
    "Extract the bottom 10 rows from the sorted DataFrame where the quantity sold is greater than 0, to make sure no duplicates in the Description column."
   ]
  },
  {
   "cell_type": "code",
   "execution_count": 68,
   "metadata": {},
   "outputs": [],
   "source": [
    "# Bottom 10 sellers by quantity (without duplicates --->drop_duplicates and cancelled invoices)\n",
    "bottom_10_sellers = sorted_quantities[sorted_quantities[\"Quantity\"] > 0].drop_duplicates(subset=[\"Description\"]).tail(10)\n"
   ]
  },
  {
   "cell_type": "markdown",
   "metadata": {},
   "source": [
    "6.   Reset Index to Avoid Potential KeyError:\n",
    "\n",
    "Reset the index of the DataFrame to make sure it starts from 0 and proceeds sequentially, avoiding any potential KeyError."
   ]
  },
  {
   "cell_type": "code",
   "execution_count": 69,
   "metadata": {},
   "outputs": [],
   "source": [
    "# Resetting the index to avoid potential KeyError\n",
    "bottom_10_sellers.reset_index(drop=True, inplace=True)\n"
   ]
  },
  {
   "cell_type": "markdown",
   "metadata": {},
   "source": [
    "7. Generate Pairs of Items (One from Top Sellers and One from Bottom Sellers):\n",
    "\n",
    "Iterate 10 times to select random pairs of items, one from the top sellers and one from the bottom sellers.\n",
    "\n",
    "Randomly select an item from the top 10 best sellers and another from the bottom 10 sellers and append them as a pair to the promotion_pairs list."
   ]
  },
  {
   "cell_type": "code",
   "execution_count": 70,
   "metadata": {},
   "outputs": [],
   "source": [
    "# Generate pairs of items (one from top sellers and one from bottom sellers)\n",
    "promotion_pairs = []\n",
    "for _ in range(10):\n",
    "    top_item = random.choice(top_10_sellers[\"Description\"])\n",
    "    bottom_item = random.choice(bottom_10_sellers[\"Description\"])\n",
    "    promotion_pairs.append((top_item, bottom_item))\n"
   ]
  },
  {
   "cell_type": "markdown",
   "metadata": {},
   "source": [
    "8. Display the Recommendation for the Promotion:\n",
    "\n",
    "Print out the top 10 best sellers DataFrame.\n",
    "\n",
    "Print out the bottom 10 sellers DataFrame.\n",
    "\n",
    "Print out the recommended promotion pairs generated in the previous step.\n"
   ]
  },
  {
   "cell_type": "code",
   "execution_count": 71,
   "metadata": {},
   "outputs": [
    {
     "name": "stdout",
     "output_type": "stream",
     "text": [
      "\n",
      "Top 10 Sellers:\n",
      "                          Description  Quantity\n",
      "0                 BROCADE RING PURSE      21568\n",
      "1   WORLD WAR 2 GLIDERS ASSTD DESIGNS     18115\n",
      "2  WHITE HANGING HEART T-LIGHT HOLDER     17247\n",
      "3       ASSORTED COLOUR BIRD ORNAMENT     16727\n",
      "4          FLAG OF ST GEORGE CAR FLAG     14810\n",
      "5             JUMBO BAG RED RETROSPOT     14681\n",
      "6  PACK OF 60 PINK PAISLEY CAKE CASES     13822\n",
      "7         60 TEATIME FAIRY CAKE CASES     11602\n",
      "8    PACK OF 72 RETRO SPOT CAKE CASES     10719\n",
      "9     VICTORIAN GLASS HANGING T-LIGHT      8579\n",
      "\n",
      "Botton 10 Sellers:\n",
      "                         Description  Quantity\n",
      "0              BLUE TABLE RUN FLOWER         1\n",
      "1     GLASS AND BEADS BRACELET IVORY         1\n",
      "2       PURPLE DRESS JEWELLERY STAND         1\n",
      "3  GLASS BEAD HOOP EARRINGS AMETHYST         1\n",
      "4         MULTICOLOUR POLKADOT PLATE         1\n",
      "5         TINY CRYSTAL BRACELET BLUE         1\n",
      "6   MURANO STYLE GLASS BRACELET PINK         1\n",
      "7    SILVER AND BLACK ORBIT NECKLACE         1\n",
      "8       WHITE STONE/CRYSTAL EARRINGS         1\n",
      "9                VIP PASSPORT COVER          1\n",
      "\n",
      "Recommended Promotion Pairs:\n",
      "('PACK OF 72 RETRO SPOT CAKE CASES', 'MURANO STYLE GLASS BRACELET PINK')\n",
      "('PACK OF 60 PINK PAISLEY CAKE CASES', 'MURANO STYLE GLASS BRACELET PINK')\n",
      "('VICTORIAN GLASS HANGING T-LIGHT', 'BLUE TABLE RUN FLOWER')\n",
      "('WHITE HANGING HEART T-LIGHT HOLDER', 'MURANO STYLE GLASS BRACELET PINK')\n",
      "('WHITE HANGING HEART T-LIGHT HOLDER', 'TINY CRYSTAL BRACELET BLUE')\n",
      "('JUMBO BAG RED RETROSPOT', 'MULTICOLOUR POLKADOT PLATE')\n",
      "('VICTORIAN GLASS HANGING T-LIGHT', 'MURANO STYLE GLASS BRACELET PINK')\n",
      "('BROCADE RING PURSE ', 'BLUE TABLE RUN FLOWER')\n",
      "('WHITE HANGING HEART T-LIGHT HOLDER', 'VIP PASSPORT COVER ')\n",
      "('BROCADE RING PURSE ', 'VIP PASSPORT COVER ')\n"
     ]
    }
   ],
   "source": [
    "# Display the recommendation for the promotion\n",
    "print(\"\\nTop 10 Sellers:\")\n",
    "print(top_10_sellers)\n",
    "print(\"\\nBotton 10 Sellers:\")\n",
    "print(bottom_10_sellers)\n",
    "print(\"\\nRecommended Promotion Pairs:\")\n",
    "for pair in promotion_pairs:\n",
    "    print(pair)"
   ]
  }
 ],
 "metadata": {
  "kernelspec": {
   "display_name": "base",
   "language": "python",
   "name": "python3"
  },
  "language_info": {
   "codemirror_mode": {
    "name": "ipython",
    "version": 3
   },
   "file_extension": ".py",
   "mimetype": "text/x-python",
   "name": "python",
   "nbconvert_exporter": "python",
   "pygments_lexer": "ipython3",
   "version": "3.11.5"
  }
 },
 "nbformat": 4,
 "nbformat_minor": 2
}
