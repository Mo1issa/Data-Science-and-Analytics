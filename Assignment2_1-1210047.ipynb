{
 "cells": [
  {
   "cell_type": "code",
   "execution_count": 14,
   "metadata": {},
   "outputs": [
    {
     "name": "stdout",
     "output_type": "stream",
     "text": [
      "The cheapest grocery to buy these vegetables is: Abo Ahmad\n",
      "[ 4.   2.4  3.5  3.  10.   5.  12.   5. ]\n",
      "[ 3.1  3.   3.5  3.   8.   5.  10.   5. ]\n",
      "[2.7 2.  3.  2.  7.  2.  8.  3.5]\n",
      "[ 3.5  3.   5.   3.  12.   5.  13.   4. ]\n",
      "[3.  2.5 4.  1.5 8.  3.  7.  4. ]\n",
      "[3.  3.  3.3 1.5 8.  3.  9.  3. ]\n",
      "[2.  2.  3.3 1.5 8.  2.5 7.  3.3]\n",
      "[ 2.3  2.   3.3  1.  12.   3.   7.   3.3]\n"
     ]
    },
    {
     "data": {
      "text/plain": [
       "<function numpy.extract(condition, arr)>"
      ]
     },
     "execution_count": 14,
     "metadata": {},
     "output_type": "execute_result"
    }
   ],
   "source": [
    "import numpy as np\n",
    "groceries_price1 = np.load('C:/Users/HP/Downloads/groceries/Gardens.npy')\n",
    "groceries_price2 = np.load('C:/Users/HP/Downloads/groceries/Baghdad.npy')\n",
    "groceries_price3 = np.load('C:/Users/HP/Downloads/groceries/Shini.npy')\n",
    "groceries_price4 = np.load('C:/Users/HP/Downloads/groceries/Max mar.npy')\n",
    "groceries_price5 = np.load('C:/Users/HP/Downloads/groceries/Karaz.npy')\n",
    "groceries_price6 = np.load('C:/Users/HP/Downloads/groceries/Bravo.npy')\n",
    "groceries_price7 = np.load('C:/Users/HP/Downloads/groceries/Abo Ahmad.npy')\n",
    "groceries_price8 = np.load('C:/Users/HP/Downloads/groceries/Mawares.npy')\n",
    "# Define your vegetable quantities\n",
    "vegetables = np.array([2, 1.5, 3, 6, 1, 1, 2, 3])  # Lemon, Tomato, Potato, Watermelon, Zucchini, Eggplant, Apple, Panana\n",
    "\n",
    "# Calculate total price at each grocery\n",
    "total_price_grocery1 = np.dot(groceries_price1, vegetables)\n",
    "total_price_grocery2 = np.dot(groceries_price2, vegetables)\n",
    "total_price_grocery3 = np.dot(groceries_price3, vegetables)\n",
    "total_price_grocery4 = np.dot(groceries_price4, vegetables)\n",
    "total_price_grocery5 = np.dot(groceries_price5, vegetables)\n",
    "total_price_grocery6 = np.dot(groceries_price6, vegetables)\n",
    "total_price_grocery7 = np.dot(groceries_price7, vegetables)\n",
    "total_price_grocery8 = np.dot(groceries_price8, vegetables)\n",
    "\n",
    "\n",
    "# Find the grocery with the minimum total price\n",
    "cheapest_grocery_index = np.argmin([total_price_grocery1, total_price_grocery2, total_price_grocery3,total_price_grocery4,total_price_grocery5,total_price_grocery6,total_price_grocery7,total_price_grocery8])\n",
    "\n",
    "# Find the name of the cheapest grocery (assuming grocery names are stored in a list)\n",
    "grocery_names = [\"Gardens\", \"Baghdad\", \"Shini\" ,\"Max mar\",\"Karaz\", \"Bravo\",\"Abo Ahmad\",\"Mawares\"] # ... add other grocery names\n",
    "cheapest_grocery_name = grocery_names[cheapest_grocery_index]\n",
    "\n",
    "print(\"The cheapest grocery to buy these vegetables is:\", cheapest_grocery_name)\n",
    "\n"
   ]
  }
 ],
 "metadata": {
  "kernelspec": {
   "display_name": "base",
   "language": "python",
   "name": "python3"
  },
  "language_info": {
   "codemirror_mode": {
    "name": "ipython",
    "version": 3
   },
   "file_extension": ".py",
   "mimetype": "text/x-python",
   "name": "python",
   "nbconvert_exporter": "python",
   "pygments_lexer": "ipython3",
   "version": "3.11.5"
  }
 },
 "nbformat": 4,
 "nbformat_minor": 2
}
