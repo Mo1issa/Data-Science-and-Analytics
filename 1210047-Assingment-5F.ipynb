{
 "cells": [
  {
   "cell_type": "markdown",
   "metadata": {},
   "source": [
    "#**Assignment #5**\n",
    "\n",
    "*   **Mohammad Issa**\n",
    "*   **ID:1210047**"
   ]
  },
  {
   "cell_type": "code",
   "execution_count": 1,
   "metadata": {},
   "outputs": [],
   "source": [
    "import pandas as pd\n",
    "import numpy as np \n",
    "import random\n",
    "from itertools import product\n"
   ]
  },
  {
   "cell_type": "markdown",
   "metadata": {},
   "source": [
    "**Load Dataset:**"
   ]
  },
  {
   "cell_type": "code",
   "execution_count": 2,
   "metadata": {},
   "outputs": [],
   "source": [
    "\n",
    "dataset = pd.read_csv(\"C:/Users/HP/Downloads/online_retail_II.csv/online_retail_II.csv\")\n",
    "seed = hash('1210047')  # Convert your ID to Integer hash\n",
    "\n"
   ]
  },
  {
   "cell_type": "markdown",
   "metadata": {},
   "source": [
    "Randomly select 200k row from the dataset using my ID as seed."
   ]
  },
  {
   "cell_type": "code",
   "execution_count": 3,
   "metadata": {},
   "outputs": [
    {
     "data": {
      "text/html": [
       "<div>\n",
       "<style scoped>\n",
       "    .dataframe tbody tr th:only-of-type {\n",
       "        vertical-align: middle;\n",
       "    }\n",
       "\n",
       "    .dataframe tbody tr th {\n",
       "        vertical-align: top;\n",
       "    }\n",
       "\n",
       "    .dataframe thead th {\n",
       "        text-align: right;\n",
       "    }\n",
       "</style>\n",
       "<table border=\"1\" class=\"dataframe\">\n",
       "  <thead>\n",
       "    <tr style=\"text-align: right;\">\n",
       "      <th></th>\n",
       "      <th>Invoice</th>\n",
       "      <th>StockCode</th>\n",
       "      <th>Description</th>\n",
       "      <th>Quantity</th>\n",
       "      <th>InvoiceDate</th>\n",
       "      <th>Price</th>\n",
       "      <th>Customer ID</th>\n",
       "      <th>Country</th>\n",
       "    </tr>\n",
       "  </thead>\n",
       "  <tbody>\n",
       "    <tr>\n",
       "      <th>362758</th>\n",
       "      <td>524522</td>\n",
       "      <td>22202</td>\n",
       "      <td>MILK PAN PINK POLKADOT</td>\n",
       "      <td>4</td>\n",
       "      <td>2010-09-29 13:14:00</td>\n",
       "      <td>3.75</td>\n",
       "      <td>14911.0</td>\n",
       "      <td>EIRE</td>\n",
       "    </tr>\n",
       "    <tr>\n",
       "      <th>1056502</th>\n",
       "      <td>580902</td>\n",
       "      <td>22909</td>\n",
       "      <td>SET OF 20 VINTAGE CHRISTMAS NAPKINS</td>\n",
       "      <td>96</td>\n",
       "      <td>2011-12-06 12:50:00</td>\n",
       "      <td>0.72</td>\n",
       "      <td>13881.0</td>\n",
       "      <td>United Kingdom</td>\n",
       "    </tr>\n",
       "    <tr>\n",
       "      <th>766033</th>\n",
       "      <td>558105</td>\n",
       "      <td>22908</td>\n",
       "      <td>PACK OF 20 NAPKINS RED APPLES</td>\n",
       "      <td>1</td>\n",
       "      <td>2011-06-26 14:54:00</td>\n",
       "      <td>0.85</td>\n",
       "      <td>15644.0</td>\n",
       "      <td>United Kingdom</td>\n",
       "    </tr>\n",
       "    <tr>\n",
       "      <th>774722</th>\n",
       "      <td>558892</td>\n",
       "      <td>85132C</td>\n",
       "      <td>CHARLIE AND LOLA FIGURES TINS</td>\n",
       "      <td>12</td>\n",
       "      <td>2011-07-04 15:46:00</td>\n",
       "      <td>1.95</td>\n",
       "      <td>17581.0</td>\n",
       "      <td>United Kingdom</td>\n",
       "    </tr>\n",
       "    <tr>\n",
       "      <th>847007</th>\n",
       "      <td>565151</td>\n",
       "      <td>21430</td>\n",
       "      <td>SET/3 RED GINGHAM ROSE STORAGE BOX</td>\n",
       "      <td>1</td>\n",
       "      <td>2011-09-01 14:29:00</td>\n",
       "      <td>3.75</td>\n",
       "      <td>16923.0</td>\n",
       "      <td>United Kingdom</td>\n",
       "    </tr>\n",
       "    <tr>\n",
       "      <th>...</th>\n",
       "      <td>...</td>\n",
       "      <td>...</td>\n",
       "      <td>...</td>\n",
       "      <td>...</td>\n",
       "      <td>...</td>\n",
       "      <td>...</td>\n",
       "      <td>...</td>\n",
       "      <td>...</td>\n",
       "    </tr>\n",
       "    <tr>\n",
       "      <th>833935</th>\n",
       "      <td>564017</td>\n",
       "      <td>22993</td>\n",
       "      <td>SET OF 4 PANTRY JELLY MOULDS</td>\n",
       "      <td>12</td>\n",
       "      <td>2011-08-22 11:44:00</td>\n",
       "      <td>1.25</td>\n",
       "      <td>14057.0</td>\n",
       "      <td>United Kingdom</td>\n",
       "    </tr>\n",
       "    <tr>\n",
       "      <th>979468</th>\n",
       "      <td>575507</td>\n",
       "      <td>23251</td>\n",
       "      <td>VINTAGE RED ENAMEL TRIM MUG</td>\n",
       "      <td>12</td>\n",
       "      <td>2011-11-10 10:32:00</td>\n",
       "      <td>1.25</td>\n",
       "      <td>17197.0</td>\n",
       "      <td>United Kingdom</td>\n",
       "    </tr>\n",
       "    <tr>\n",
       "      <th>374472</th>\n",
       "      <td>525497</td>\n",
       "      <td>82581</td>\n",
       "      <td>TOILET METAL SIGN</td>\n",
       "      <td>12</td>\n",
       "      <td>2010-10-05 16:46:00</td>\n",
       "      <td>0.55</td>\n",
       "      <td>15128.0</td>\n",
       "      <td>United Kingdom</td>\n",
       "    </tr>\n",
       "    <tr>\n",
       "      <th>1034062</th>\n",
       "      <td>579254</td>\n",
       "      <td>23395</td>\n",
       "      <td>BELLE JARDINIERE CUSHION COVER</td>\n",
       "      <td>4</td>\n",
       "      <td>2011-11-28 17:05:00</td>\n",
       "      <td>3.75</td>\n",
       "      <td>14511.0</td>\n",
       "      <td>United Kingdom</td>\n",
       "    </tr>\n",
       "    <tr>\n",
       "      <th>76622</th>\n",
       "      <td>496340</td>\n",
       "      <td>22058</td>\n",
       "      <td>CERAMIC LOVE HEARTS DESIGN MUG</td>\n",
       "      <td>12</td>\n",
       "      <td>2010-01-31 15:45:00</td>\n",
       "      <td>1.49</td>\n",
       "      <td>12668.0</td>\n",
       "      <td>Germany</td>\n",
       "    </tr>\n",
       "  </tbody>\n",
       "</table>\n",
       "<p>200000 rows × 8 columns</p>\n",
       "</div>"
      ],
      "text/plain": [
       "        Invoice StockCode                          Description  Quantity  \\\n",
       "362758   524522     22202               MILK PAN PINK POLKADOT         4   \n",
       "1056502  580902     22909  SET OF 20 VINTAGE CHRISTMAS NAPKINS        96   \n",
       "766033   558105     22908        PACK OF 20 NAPKINS RED APPLES         1   \n",
       "774722   558892    85132C        CHARLIE AND LOLA FIGURES TINS        12   \n",
       "847007   565151     21430   SET/3 RED GINGHAM ROSE STORAGE BOX         1   \n",
       "...         ...       ...                                  ...       ...   \n",
       "833935   564017     22993         SET OF 4 PANTRY JELLY MOULDS        12   \n",
       "979468   575507     23251         VINTAGE RED ENAMEL TRIM MUG         12   \n",
       "374472   525497     82581                    TOILET METAL SIGN        12   \n",
       "1034062  579254     23395       BELLE JARDINIERE CUSHION COVER         4   \n",
       "76622    496340     22058       CERAMIC LOVE HEARTS DESIGN MUG        12   \n",
       "\n",
       "                 InvoiceDate  Price  Customer ID         Country  \n",
       "362758   2010-09-29 13:14:00   3.75      14911.0            EIRE  \n",
       "1056502  2011-12-06 12:50:00   0.72      13881.0  United Kingdom  \n",
       "766033   2011-06-26 14:54:00   0.85      15644.0  United Kingdom  \n",
       "774722   2011-07-04 15:46:00   1.95      17581.0  United Kingdom  \n",
       "847007   2011-09-01 14:29:00   3.75      16923.0  United Kingdom  \n",
       "...                      ...    ...          ...             ...  \n",
       "833935   2011-08-22 11:44:00   1.25      14057.0  United Kingdom  \n",
       "979468   2011-11-10 10:32:00   1.25      17197.0  United Kingdom  \n",
       "374472   2010-10-05 16:46:00   0.55      15128.0  United Kingdom  \n",
       "1034062  2011-11-28 17:05:00   3.75      14511.0  United Kingdom  \n",
       "76622    2010-01-31 15:45:00   1.49      12668.0         Germany  \n",
       "\n",
       "[200000 rows x 8 columns]"
      ]
     },
     "execution_count": 3,
     "metadata": {},
     "output_type": "execute_result"
    }
   ],
   "source": [
    "# Randomly select 200,000 rows from the data (using seed of my ID)\n",
    "dataset = dataset.sample(200000, random_state=np.random.default_rng(seed))\n",
    "dataset"
   ]
  },
  {
   "cell_type": "markdown",
   "metadata": {},
   "source": [
    "\n",
    "\n",
    "1.   ***Determine the total sales per invoice and identify the top 5 invoices.***\n",
    "\n"
   ]
  },
  {
   "cell_type": "code",
   "execution_count": 4,
   "metadata": {},
   "outputs": [
    {
     "name": "stdout",
     "output_type": "stream",
     "text": [
      " <------> Total Sales per Invoice <------>\n",
      "  Invoice  Price  Quantity\n",
      "0  489434  14.95        48\n",
      "1  489435   7.95        48\n",
      "2  489436  10.20        27\n",
      "3  489437  16.15        11\n",
      "4  489438   7.74       152\n",
      "\n",
      "Top 5 Invoices:\n"
     ]
    },
    {
     "data": {
      "text/html": [
       "<div>\n",
       "<style scoped>\n",
       "    .dataframe tbody tr th:only-of-type {\n",
       "        vertical-align: middle;\n",
       "    }\n",
       "\n",
       "    .dataframe tbody tr th {\n",
       "        vertical-align: top;\n",
       "    }\n",
       "\n",
       "    .dataframe thead th {\n",
       "        text-align: right;\n",
       "    }\n",
       "</style>\n",
       "<table border=\"1\" class=\"dataframe\">\n",
       "  <thead>\n",
       "    <tr style=\"text-align: right;\">\n",
       "      <th></th>\n",
       "      <th>Invoice</th>\n",
       "      <th>Price</th>\n",
       "      <th>Quantity</th>\n",
       "    </tr>\n",
       "  </thead>\n",
       "  <tbody>\n",
       "    <tr>\n",
       "      <th>34375</th>\n",
       "      <td>C512770</td>\n",
       "      <td>25111.09</td>\n",
       "      <td>-1</td>\n",
       "    </tr>\n",
       "    <tr>\n",
       "      <th>35102</th>\n",
       "      <td>C537651</td>\n",
       "      <td>13541.33</td>\n",
       "      <td>-1</td>\n",
       "    </tr>\n",
       "    <tr>\n",
       "      <th>35101</th>\n",
       "      <td>C537630</td>\n",
       "      <td>13541.33</td>\n",
       "      <td>-1</td>\n",
       "    </tr>\n",
       "    <tr>\n",
       "      <th>12887</th>\n",
       "      <td>525399</td>\n",
       "      <td>10468.80</td>\n",
       "      <td>1</td>\n",
       "    </tr>\n",
       "    <tr>\n",
       "      <th>34937</th>\n",
       "      <td>C531400</td>\n",
       "      <td>6706.71</td>\n",
       "      <td>-1</td>\n",
       "    </tr>\n",
       "  </tbody>\n",
       "</table>\n",
       "</div>"
      ],
      "text/plain": [
       "       Invoice     Price  Quantity\n",
       "34375  C512770  25111.09        -1\n",
       "35102  C537651  13541.33        -1\n",
       "35101  C537630  13541.33        -1\n",
       "12887   525399  10468.80         1\n",
       "34937  C531400   6706.71        -1"
      ]
     },
     "execution_count": 4,
     "metadata": {},
     "output_type": "execute_result"
    }
   ],
   "source": [
    "invoice_total = dataset.groupby('Invoice')[['Price', 'Quantity']].sum()\n",
    "invoice_total = invoice_total.reset_index()\n",
    "\n",
    "# Sort invoice_total by total sales (descending) and select top 5 \n",
    "top_invoices = invoice_total.sort_values(by='Price', ascending=False)[:5]\n",
    "\n",
    "print(\" <------> Total Sales per Invoice <------>\")\n",
    "print(invoice_total.head())\n",
    "print(\"\\nTop 5 Invoices:\")\n",
    "top_invoices\n",
    "\n",
    "\n"
   ]
  },
  {
   "cell_type": "markdown",
   "metadata": {},
   "source": [
    "\n",
    "2.   ***Compute the total sales per customer and list the top 5 customers.***\n",
    "\n"
   ]
  },
  {
   "cell_type": "code",
   "execution_count": 5,
   "metadata": {},
   "outputs": [
    {
     "name": "stdout",
     "output_type": "stream",
     "text": [
      " <------> Total Sales per Customer <------>\n",
      "   Customer ID   Price  Quantity\n",
      "0      12346.0   48.81        12\n",
      "1      12347.0  121.07       485\n",
      "2      12348.0   84.16       410\n",
      "3      12349.0  356.10       366\n",
      "4      12350.0    8.15        42\n",
      "\n",
      " <------> Top customers <------>\n"
     ]
    },
    {
     "data": {
      "text/html": [
       "<div>\n",
       "<style scoped>\n",
       "    .dataframe tbody tr th:only-of-type {\n",
       "        vertical-align: middle;\n",
       "    }\n",
       "\n",
       "    .dataframe tbody tr th {\n",
       "        vertical-align: top;\n",
       "    }\n",
       "\n",
       "    .dataframe thead th {\n",
       "        text-align: right;\n",
       "    }\n",
       "</style>\n",
       "<table border=\"1\" class=\"dataframe\">\n",
       "  <thead>\n",
       "    <tr style=\"text-align: right;\">\n",
       "      <th></th>\n",
       "      <th>Customer ID</th>\n",
       "      <th>Price</th>\n",
       "      <th>Quantity</th>\n",
       "    </tr>\n",
       "  </thead>\n",
       "  <tbody>\n",
       "    <tr>\n",
       "      <th>4758</th>\n",
       "      <td>17399.0</td>\n",
       "      <td>25111.09</td>\n",
       "      <td>-1</td>\n",
       "    </tr>\n",
       "    <tr>\n",
       "      <th>2411</th>\n",
       "      <td>14911.0</td>\n",
       "      <td>11553.58</td>\n",
       "      <td>27267</td>\n",
       "    </tr>\n",
       "    <tr>\n",
       "      <th>184</th>\n",
       "      <td>12536.0</td>\n",
       "      <td>8450.88</td>\n",
       "      <td>443</td>\n",
       "    </tr>\n",
       "    <tr>\n",
       "      <th>5411</th>\n",
       "      <td>18102.0</td>\n",
       "      <td>7447.93</td>\n",
       "      <td>32792</td>\n",
       "    </tr>\n",
       "    <tr>\n",
       "      <th>5171</th>\n",
       "      <td>17841.0</td>\n",
       "      <td>6892.03</td>\n",
       "      <td>7449</td>\n",
       "    </tr>\n",
       "  </tbody>\n",
       "</table>\n",
       "</div>"
      ],
      "text/plain": [
       "      Customer ID     Price  Quantity\n",
       "4758      17399.0  25111.09        -1\n",
       "2411      14911.0  11553.58     27267\n",
       "184       12536.0   8450.88       443\n",
       "5411      18102.0   7447.93     32792\n",
       "5171      17841.0   6892.03      7449"
      ]
     },
     "execution_count": 5,
     "metadata": {},
     "output_type": "execute_result"
    }
   ],
   "source": [
    "def get_top_customers(dataset):\n",
    "\n",
    "  customer_totals = dataset.groupby('Customer ID')[['Price', 'Quantity']].sum().reset_index()\n",
    "  top_customers = customer_totals.sort_values(by='Price', ascending=False)[:5]\n",
    "  return customer_totals, top_customers\n",
    "\n",
    "customer_totals, top_customers = get_top_customers(dataset)\n",
    "\n",
    "print(\" <------> Total Sales per Customer <------>\")\n",
    "print(customer_totals.head())\n",
    "print(\"\\n <------> Top customers <------>\")\n",
    "top_customers\n"
   ]
  },
  {
   "cell_type": "markdown",
   "metadata": {},
   "source": [
    "\n",
    "\n",
    "3.   ***Identify the top 5 selling items during this period.***\n",
    "\n",
    "\n"
   ]
  },
  {
   "cell_type": "code",
   "execution_count": 6,
   "metadata": {},
   "outputs": [
    {
     "name": "stdout",
     "output_type": "stream",
     "text": [
      "<------> Top 5 Selling Items (by Quantity) <------>\n",
      "StockCode\n",
      "84879     20676\n",
      "37410     19207\n",
      "85099B    18559\n",
      "21212     17179\n",
      "84077     15250\n",
      "Name: Quantity, dtype: int64\n"
     ]
    }
   ],
   "source": [
    "\n",
    "# Assuming 'StockCode' represents the items\n",
    "top_selling_items = (\n",
    "    dataset.groupby('StockCode')['Quantity'].sum().sort_values(ascending=False).head(5)\n",
    ")\n",
    "\n",
    "#showing the  results\n",
    "print(\"<------> Top 5 Selling Items (by Quantity) <------>\")\n",
    "print(top_selling_items)\n",
    "\n"
   ]
  },
  {
   "cell_type": "markdown",
   "metadata": {},
   "source": [
    "\n",
    "\n",
    "\n",
    "\n",
    "4.   ***Determine the most frequently purchased item pairs by customers and display the top 20 pairs.***\n",
    "\n"
   ]
  },
  {
   "cell_type": "code",
   "execution_count": 7,
   "metadata": {},
   "outputs": [
    {
     "name": "stdout",
     "output_type": "stream",
     "text": [
      "\n",
      " <------> Top 20 Most Frequently Purchased Item Pairs <------>\n",
      "(SWEETHEART CERAMIC TRINKET BOX, STRAWBERRY CERAMIC TRINKET BOX)          32\n",
      "(GREEN REGENCY TEACUP AND SAUCER, ROSES REGENCY TEACUP AND SAUCER )       31\n",
      "(WHITE HANGING HEART T-LIGHT HOLDER, RED HANGING HEART T-LIGHT HOLDER)    28\n",
      "(RED HANGING HEART T-LIGHT HOLDER, WHITE HANGING HEART T-LIGHT HOLDER)    28\n",
      "(HEART OF WICKER LARGE, HEART OF WICKER SMALL)                            25\n",
      "(WOODEN FRAME ANTIQUE WHITE , WOODEN PICTURE FRAME WHITE FINISH)          24\n",
      "(LUNCH BAG CARS BLUE, LUNCH BAG WOODLAND)                                 24\n",
      "(JUMBO BAG RED RETROSPOT, JUMBO  BAG BAROQUE BLACK WHITE)                 22\n",
      "(JUMBO BAG RED RETROSPOT, JUMBO SHOPPER VINTAGE RED PAISLEY)              22\n",
      "(JUMBO  BAG BAROQUE BLACK WHITE, JUMBO BAG RED RETROSPOT)                 22\n",
      "(WHITE HANGING HEART T-LIGHT HOLDER, STRAWBERRY CERAMIC TRINKET BOX)      22\n",
      "(GREEN REGENCY TEACUP AND SAUCER, GREEN REGENCY TEACUP AND SAUCER)        22\n",
      "(LUNCH BAG WOODLAND, LUNCH BAG SPACEBOY DESIGN )                          21\n",
      "(60 TEATIME FAIRY CAKE CASES, PACK OF 60 DINOSAUR CAKE CASES)             21\n",
      "(JUMBO STORAGE BAG SUKI, JUMBO BAG RED RETROSPOT)                         21\n",
      "(WHITE HANGING HEART T-LIGHT HOLDER, WOODEN FRAME ANTIQUE WHITE )         21\n",
      "(ROSES REGENCY TEACUP AND SAUCER , GREEN REGENCY TEACUP AND SAUCER)       21\n",
      "(LUNCH BAG  BLACK SKULL., LUNCH BAG RED RETROSPOT)                        20\n",
      "(LOVE BUILDING BLOCK WORD, HOME BUILDING BLOCK WORD)                      20\n",
      "(WHITE HANGING HEART T-LIGHT HOLDER, REGENCY CAKESTAND 3 TIER)            20\n",
      "Name: count, dtype: int64\n"
     ]
    }
   ],
   "source": [
    "customer_items = dataset.groupby('Invoice')['Description'].apply(list).reset_index()\n",
    "\n",
    "#  Function to find all pairs of items in a list\n",
    "def find_pairs(items):\n",
    "    pairs = []\n",
    "    for i in range(len(items)):\n",
    "        for j in range(i+1, len(items)):\n",
    "            pairs.append((items[i], items[j]))\n",
    "    return pairs\n",
    "\n",
    "# finding pairs for each customer and concatenate the lists\n",
    "customer_pairs = customer_items['Description'].apply(find_pairs)\n",
    "\n",
    "pair_counts = pd.Series([item for sublist in customer_pairs for item in sublist]).value_counts()\n",
    "\n",
    "print(\"\\n <------> Top 20 Most Frequently Purchased Item Pairs <------>\")\n",
    "print(pair_counts.head(20))"
   ]
  },
  {
   "cell_type": "markdown",
   "metadata": {},
   "source": [
    "1.   Calculate Total Quantity Sold per Stock Code:\n"
   ]
  },
  {
   "cell_type": "code",
   "execution_count": 8,
   "metadata": {},
   "outputs": [],
   "source": [
    "# Total quantity sold per stock \n",
    "item_quantities = dataset.groupby(\"Description\")[\"Quantity\"].sum().reset_index()"
   ]
  },
  {
   "cell_type": "markdown",
   "metadata": {},
   "source": [
    "2.   Sort the Item Quantities DataFrame by Quantity in Descending Order:\n",
    "\n"
   ]
  },
  {
   "cell_type": "code",
   "execution_count": 9,
   "metadata": {},
   "outputs": [],
   "source": [
    "# Sort the item_quantities DataFrame by quantity in descending order\n",
    "sorted_quantities = item_quantities.sort_values(by=\"Quantity\", ascending=False)"
   ]
  },
  {
   "cell_type": "markdown",
   "metadata": {},
   "source": [
    "3.   Identify Top 10 Best Sellers by Quantity (without Duplicates):\n",
    "\n"
   ]
  },
  {
   "cell_type": "code",
   "execution_count": 10,
   "metadata": {},
   "outputs": [],
   "source": [
    "# Top 10 best sellers by quantity (without duplicates-->drop_duplicates)\n",
    "top_10_sellers = sorted_quantities.drop_duplicates(subset=[\"Description\"]).head(10)\n"
   ]
  },
  {
   "cell_type": "markdown",
   "metadata": {},
   "source": [
    "4.   Reset Index to Avoid Potential KeyError:\n",
    "\n"
   ]
  },
  {
   "cell_type": "code",
   "execution_count": 11,
   "metadata": {},
   "outputs": [],
   "source": [
    "# Resetting the index to avoid potential KeyError -->reset_index\n",
    "top_10_sellers.reset_index(drop=True, inplace=True)"
   ]
  },
  {
   "cell_type": "markdown",
   "metadata": {},
   "source": [
    "5.   Identify Bottom 10 Sellers by Quantity (without Duplicates and Cancelled Invoices):\n",
    "\n"
   ]
  },
  {
   "cell_type": "code",
   "execution_count": 12,
   "metadata": {},
   "outputs": [],
   "source": [
    "# Bottom 10 sellers by quantity (without duplicates --->drop_duplicates and cancelled invoices)\n",
    "bottom_10_sellers = sorted_quantities[sorted_quantities[\"Quantity\"] > 0].drop_duplicates(subset=[\"Description\"]).tail(10)\n"
   ]
  },
  {
   "cell_type": "markdown",
   "metadata": {},
   "source": [
    "6.   Reset Index to Avoid Potential KeyError:\n",
    "\n"
   ]
  },
  {
   "cell_type": "code",
   "execution_count": 13,
   "metadata": {},
   "outputs": [],
   "source": [
    "# Resetting the index to avoid potential KeyError\n",
    "bottom_10_sellers.reset_index(drop=True, inplace=True)\n"
   ]
  },
  {
   "cell_type": "markdown",
   "metadata": {},
   "source": [
    "7. Generate Pairs of Items (One from Top Sellers and One from Bottom Sellers)"
   ]
  },
  {
   "cell_type": "code",
   "execution_count": 14,
   "metadata": {},
   "outputs": [],
   "source": [
    "# Generate one from top sellers and one from bottom sellers\n",
    "promotion_pairs = []\n",
    "for _ in range(10):\n",
    "    top_item = random.choice(top_10_sellers[\"Description\"])\n",
    "    bottom_item = random.choice(bottom_10_sellers[\"Description\"])\n",
    "    promotion_pairs.append((top_item, bottom_item))\n"
   ]
  },
  {
   "cell_type": "markdown",
   "metadata": {},
   "source": [
    "8. printing the Recommendation for the Promotion:\n",
    "\n",
    "1.top 10 best sellers DataFrame.\n",
    "\n",
    "2.bottom 10 sellers DataFrame.\n",
    "\n",
    "3.recommended promotion pairs generated in the previous step.\n"
   ]
  },
  {
   "cell_type": "code",
   "execution_count": 15,
   "metadata": {},
   "outputs": [
    {
     "name": "stdout",
     "output_type": "stream",
     "text": [
      "\n",
      "<------> Top 10 Sellers <------>\n",
      "                          Description  Quantity\n",
      "0       ASSORTED COLOUR BIRD ORNAMENT     20676\n",
      "1  BLACK AND WHITE PAISLEY FLOWER MUG     19207\n",
      "2   WORLD WAR 2 GLIDERS ASSTD DESIGNS     15250\n",
      "3  WHITE HANGING HEART T-LIGHT HOLDER     14888\n",
      "4             JUMBO BAG RED RETROSPOT     14599\n",
      "5         SET/6 WOODLAND PAPER PLATES     12982\n",
      "6           SET/6 WOODLAND PAPER CUPS     12838\n",
      "7  PACK OF 60 PINK PAISLEY CAKE CASES     12521\n",
      "8         60 TEATIME FAIRY CAKE CASES     11296\n",
      "9                 BROCADE RING PURSE      10211\n",
      "\n",
      "<------> Botton 10 Sellers <------>\n",
      "                           Description  Quantity\n",
      "0     GIANT SEVENTEEN DRAWER SIDEBOARD         1\n",
      "1    FLOWER FAIRY MUG+COASTER,LAVENDER         1\n",
      "2               SILICON CUBE 25W, BLUE         1\n",
      "3        BLACK SIL'T SQU CANDLE PLATE          1\n",
      "4  SILVER/M.O.P PENDANT ORBIT NECKLACE         1\n",
      "5       BLUE BERTIE MOBILE PHONE CHARM         1\n",
      "6   SILVER LARIAT BLACK STONE EARRINGS         1\n",
      "7        BLACK SILOUETTE CANDLE PLATE          1\n",
      "8  PINK TALL PORCELAIN T-LIGHT HOLDER          1\n",
      "9  BLACK VINT ART DEC CRYSTAL BRACELET         1\n",
      "\n",
      "<------> Recommended Promotion Pairs <------>\n",
      "('ASSORTED COLOUR BIRD ORNAMENT', 'SILVER LARIAT BLACK STONE EARRINGS')\n",
      "('ASSORTED COLOUR BIRD ORNAMENT', \"BLACK SIL'T SQU CANDLE PLATE \")\n",
      "('ASSORTED COLOUR BIRD ORNAMENT', 'FLOWER FAIRY MUG+COASTER,LAVENDER')\n",
      "('WORLD WAR 2 GLIDERS ASSTD DESIGNS', 'PINK TALL PORCELAIN T-LIGHT HOLDER ')\n",
      "('SET/6 WOODLAND PAPER PLATES', 'SILVER LARIAT BLACK STONE EARRINGS')\n",
      "('PACK OF 60 PINK PAISLEY CAKE CASES', 'BLUE BERTIE MOBILE PHONE CHARM')\n",
      "('PACK OF 60 PINK PAISLEY CAKE CASES', 'SILICON CUBE 25W, BLUE')\n",
      "('SET/6 WOODLAND PAPER CUPS', 'SILVER/M.O.P PENDANT ORBIT NECKLACE')\n",
      "('SET/6 WOODLAND PAPER CUPS', 'SILVER LARIAT BLACK STONE EARRINGS')\n",
      "('PACK OF 60 PINK PAISLEY CAKE CASES', 'FLOWER FAIRY MUG+COASTER,LAVENDER')\n"
     ]
    }
   ],
   "source": [
    "# Display the recommendation for the promotion\n",
    "print(\"\\n<------> Top 10 Sellers <------>\")\n",
    "print(top_10_sellers)\n",
    "print(\"\\n<------> Botton 10 Sellers <------>\")\n",
    "print(bottom_10_sellers)\n",
    "print(\"\\n<------> Recommended Promotion Pairs <------>\")\n",
    "for pair in promotion_pairs:\n",
    "    print(pair)"
   ]
  }
 ],
 "metadata": {
  "kernelspec": {
   "display_name": "Python 3 (ipykernel)",
   "language": "python",
   "name": "python3"
  },
  "language_info": {
   "codemirror_mode": {
    "name": "ipython",
    "version": 3
   },
   "file_extension": ".py",
   "mimetype": "text/x-python",
   "name": "python",
   "nbconvert_exporter": "python",
   "pygments_lexer": "ipython3",
   "version": "3.11.7"
  }
 },
 "nbformat": 4,
 "nbformat_minor": 4
}
