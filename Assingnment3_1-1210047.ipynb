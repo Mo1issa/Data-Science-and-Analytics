{
 "cells": [
  {
   "cell_type": "markdown",
   "metadata": {},
   "source": [
    "# Assingnment3_1-1210047"
   ]
  },
  {
   "cell_type": "markdown",
   "metadata": {},
   "source": [
    "* 1 - Creating the Random seed with my ID  \n",
    "* 2 - Generate the normally distributed sample using the values -> (1500,700,10000000)\n",
    "\n",
    "* 3 - Putting the sample sizes in an array \n"
   ]
  },
  {
   "cell_type": "code",
   "execution_count": 1,
   "metadata": {},
   "outputs": [],
   "source": [
    "import numpy as np\n",
    "import matplotlib.pyplot as plt\n",
    "\n",
    "# Set ID as the seed for reproducibility\n",
    "seed = 1210047\n",
    "\n",
    "# Generate a normally distributed sample of size 10,000,000\n",
    "np.random.seed(seed)\n",
    "data = np.random.normal(loc=1500, scale=700, size=10000000)\n",
    "\n",
    "# Sample sizes\n",
    "sample_sizes = [10, 100, 1000, 10000]\n"
   ]
  },
  {
   "cell_type": "markdown",
   "metadata": {},
   "source": [
    "* Function to calculate sample statistics\n"
   ]
  },
  {
   "cell_type": "code",
   "execution_count": 2,
   "metadata": {},
   "outputs": [],
   "source": [
    "\n",
    "def sample_stats(sample):\n",
    "  # Sample mean\n",
    "  mean = np.mean(sample)\n",
    "  # Sample standard deviation\n",
    "  std = np.std(sample)\n",
    "  # Quantiles (quartiles and median)\n",
    "  percentiles = np.percentile(sample, [25, 50, 75])\n",
    "  return mean, std, percentiles\n",
    "\n"
   ]
  },
  {
   "cell_type": "markdown",
   "metadata": {},
   "source": [
    "* Generate random samples from the population\n"
   ]
  },
  {
   "cell_type": "code",
   "execution_count": 3,
   "metadata": {},
   "outputs": [],
   "source": [
    "samples = {size: np.random.choice(data, size) for size in sample_sizes}\n",
    "\n"
   ]
  },
  {
   "cell_type": "markdown",
   "metadata": {},
   "source": [
    "* Print sample statistics\n"
   ]
  },
  {
   "cell_type": "code",
   "execution_count": 4,
   "metadata": {},
   "outputs": [
    {
     "name": "stdout",
     "output_type": "stream",
     "text": [
      "Sample size: 10\n",
      "  Mean: 1425.89\n",
      "  Standard deviation: 684.87\n",
      "  Q1 (25th percentile): 1163.08\n",
      "  Q2 (Median): 1389.43\n",
      "  Q3 (75th percentile): 2042.53\n",
      "---\n",
      "Sample size: 100\n",
      "  Mean: 1635.07\n",
      "  Standard deviation: 641.09\n",
      "  Q1 (25th percentile): 1271.38\n",
      "  Q2 (Median): 1692.55\n",
      "  Q3 (75th percentile): 2006.66\n",
      "---\n",
      "Sample size: 1000\n",
      "  Mean: 1502.02\n",
      "  Standard deviation: 679.50\n",
      "  Q1 (25th percentile): 1051.91\n",
      "  Q2 (Median): 1494.63\n",
      "  Q3 (75th percentile): 1961.59\n",
      "---\n",
      "Sample size: 10000\n",
      "  Mean: 1501.28\n",
      "  Standard deviation: 698.57\n",
      "  Q1 (25th percentile): 1023.62\n",
      "  Q2 (Median): 1503.77\n",
      "  Q3 (75th percentile): 1971.71\n",
      "---\n"
     ]
    }
   ],
   "source": [
    "for size, sample in samples.items():\n",
    "  mean, std, percentiles = sample_stats(sample)\n",
    "  q1, q2, q3 = percentiles\n",
    "  print(f\"Sample size: {size}\")\n",
    "  print(f\"  Mean: {mean:.2f}\")\n",
    "  print(f\"  Standard deviation: {std:.2f}\")\n",
    "  print(f\"  Q1 (25th percentile): {q1:.2f}\")\n",
    "  print(f\"  Q2 (Median): {q2:.2f}\")\n",
    "  print(f\"  Q3 (75th percentile): {q3:.2f}\")\n",
    "  print(\"---\")\n",
    "\n"
   ]
  },
  {
   "cell_type": "markdown",
   "metadata": {},
   "source": [
    "* Relation between sample size and sampling error\n",
    "* Smaller sample sizes lead to higher sampling errors. \n",
    "* Sampling error refers to the difference between the population parameter With a smaller \n",
    "sample, the sample statistic is less likely to be representative of the entire population, leading \n",
    "to a larger difference from the population parameter.\n",
    "\n",
    "* More representative sample\n",
    "* A larger sample size is more representative of the population because it's \n",
    " less likely to be biased by chance. With a larger sample, we capture a wider \n",
    " range of values from the population, providing a more accurate picture of \n",
    "the population's characteristics\n"
   ]
  },
  {
   "cell_type": "markdown",
   "metadata": {},
   "source": [
    "* Check for random distribution (histogram)\n"
   ]
  },
  {
   "cell_type": "code",
   "execution_count": 5,
   "metadata": {},
   "outputs": [
    {
     "data": {
      "image/png": "[encoded data removed]",
      "text/plain": [
       "<Figure size 640x480 with 1 Axes>"
      ]
     },
     "metadata": {},
     "output_type": "display_data"
    }
   ],
   "source": [
    "\n",
    "plt.hist(data)\n",
    "plt.xlabel(\"Value\")\n",
    "plt.ylabel(\"Frequency\")\n",
    "plt.title(\"Distribution of the data\")\n",
    "plt.show()"
   ]
  },
  {
   "cell_type": "markdown",
   "metadata": {},
   "source": [
    "* The answer to (a) can be determined visually from the histogram. \n",
    "* A symmetrical bell-shaped curve suggests a normal distribution.\n",
    "\n",
    "* Quartiles are the 25th, 50th, and 75th percentiles of the data.\n",
    "* The median (Q2) is the value that separates the lower half from the upper half of the data.\n",
    "* The interquartile range (IQR) is the difference between Q3 and Q1 and represents the middle 50% of the data.\n",
    "\n"
   ]
  },
  {
   "cell_type": "markdown",
   "metadata": {},
   "source": [
    "# MOhammad Issa \n",
    "# ID : 1210047\n",
    "# section : 1 "
   ]
  },
  {
   "cell_type": "markdown",
   "metadata": {},
   "source": [
    "* NOTE : I Tried my best looking for ways to solve this assingment and organizing it in a nice way\n"
   ]
  }
 ],
 "metadata": {
  "kernelspec": {
   "display_name": "Python 3 (ipykernel)",
   "language": "python",
   "name": "python3"
  },
  "language_info": {
   "codemirror_mode": {
    "name": "ipython",
    "version": 3
   },
   "file_extension": ".py",
   "mimetype": "text/x-python",
   "name": "python",
   "nbconvert_exporter": "python",
   "pygments_lexer": "ipython3",
   "version": "3.11.7"
  }
 },
 "nbformat": 4,
 "nbformat_minor": 4
}
