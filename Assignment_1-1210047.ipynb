{
 "cells": [
  {
   "cell_type": "code",
   "execution_count": 3,
   "id": "512c8bca",
   "metadata": {},
   "outputs": [
    {
     "name": "stdout",
     "output_type": "stream",
     "text": [
      "My name is Mohammad Issa,My university ID is 1210047, \n",
      "I am expected to graduate in September 2025,The main reason for joining the course is \n",
      "to make my best and keep extending my knowledge more and more\n",
      "by learning new ways to think also a new languages for more programming skills .\n"
     ]
    }
   ],
   "source": [
    "# Assignment #1\n",
    "\n",
    "# Define variables with my personal values\n",
    "first_name = \"Mohammad\"\n",
    "last_name = \"Issa\"\n",
    "university_id = \"1210047\"\n",
    "expected_graduation_date = \"September 2025\"\n",
    "main_reason = \"\"\"\n",
    "to make my best and keep extending my knowledge more and more\n",
    "by learning new ways to think also a new languages for more programming skills \"\"\"\n",
    "\n",
    "# Define the about variable using format* function* as you exaplinaed in the lecture\n",
    "about = f\"\"\"My name is {first_name} {last_name},My university ID is {university_id}, \n",
    "I am expected to graduate in {expected_graduation_date},The main reason for joining the course is {main_reason}.\"\"\"\n",
    "\n",
    "# Printing the about \n",
    "print(about)\n"
   ]
  },
  {
   "cell_type": "markdown",
   "id": "84fd1222",
   "metadata": {},
   "source": []
  },
  {
   "cell_type": "code",
   "execution_count": null,
   "id": "cbb4216b",
   "metadata": {},
   "outputs": [],
   "source": []
  }
 ],
 "metadata": {
  "kernelspec": {
   "display_name": "Python 3 (ipykernel)",
   "language": "python",
   "name": "python3"
  },
  "language_info": {
   "codemirror_mode": {
    "name": "ipython",
    "version": 3
   },
   "file_extension": ".py",
   "mimetype": "text/x-python",
   "name": "python",
   "nbconvert_exporter": "python",
   "pygments_lexer": "ipython3",
   "version": "3.11.5"
  }
 },
 "nbformat": 4,
 "nbformat_minor": 5
}
